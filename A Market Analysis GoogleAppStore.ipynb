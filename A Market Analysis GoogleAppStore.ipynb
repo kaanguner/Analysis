{
 "cells": [
  {
   "cell_type": "markdown",
   "metadata": {},
   "source": [
    "# A Market Analysis for App Store and Google Play\n",
    "\n",
    "\n",
    "\n",
    "This project aims to figure out profitable marketing personas and profiles for the App Store and Google Play digital stores. Marketing teams will use this information for their marketing efforts. We want to help our developers understand what type of apps are likely to attract more users on Google Play and the App Store. We're aiming for the English-speaking market for this analysis. Our primary source of revenue is in-app purchases and in-app ads. We're only looking for free to download apps. Therefore the number of users using the app is very important to us.\n",
    "\n",
    "\n",
    "## The Datasets\n",
    "\n",
    "In September 2018, both the App Store and Play Store had approximately 2 million apps available. The datasets we're using are from that time. Since four million rows are too big for our resources, we're using a sample of them dwindling them down to 10k rows.\n",
    "\n",
    "You can download the both [Google Play (data collected in August 2018)](https://www.kaggle.com/lava18/google-play-store-apps) and [App Store (data collected in July 2017)](https://www.kaggle.com/ramamet4/app-store-apple-data-set-10k-apps) datasets for your use and examination using the links provided.\n",
    "\n",
    "\n",
    "We'll start by opening the datasets."
   ]
  },
  {
   "cell_type": "code",
   "execution_count": 1,
   "metadata": {},
   "outputs": [],
   "source": [
    "\"\"\"\n",
    "This is a very basic approach to analysis in Python.\n",
    "This project won't use the popular data science libraries like numpy, pandas or matplotlib.\n",
    "We're aiming to get a grasp for the most basic techniques used in both programming and analysis.\n",
    "\"\"\"\n",
    "\n",
    "from csv import reader\n",
    "\n",
    "# Open Appstore.csv\n",
    "opened_file = open('AppleStore.csv', encoding='utf8')\n",
    "read = reader(opened_file)\n",
    "appstore = list(read)\n",
    "appstore_header = appstore[0]\n",
    "appstore = appstore[1:]\n",
    "           \n",
    "# Open Google Play Data\n",
    "opened_file = open('googleplaystore.csv', encoding='utf8')\n",
    "read = reader(opened_file)\n",
    "playstore = list(read)\n",
    "playstore_header = playstore[0]\n",
    "playstore = playstore[1:]"
   ]
  },
  {
   "cell_type": "code",
   "execution_count": 2,
   "metadata": {},
   "outputs": [
    {
     "name": "stdout",
     "output_type": "stream",
     "text": [
      "Exploring the AppStore Data\n",
      "\n",
      "\n",
      "['id', 'track_name', 'size_bytes', 'currency', 'price', 'rating_count_tot', 'rating_count_ver', 'user_rating', 'user_rating_ver', 'ver', 'cont_rating', 'prime_genre', 'sup_devices.num', 'ipadSc_urls.num', 'lang.num', 'vpp_lic']\n",
      "\n",
      "\n",
      "['284882215', 'Facebook', '389879808', 'USD', '0.0', '2974676', '212', '3.5', '3.5', '95.0', '4+', 'Social Networking', '37', '1', '29', '1']\n",
      "\n",
      "\n",
      "['389801252', 'Instagram', '113954816', 'USD', '0.0', '2161558', '1289', '4.5', '4.0', '10.23', '12+', 'Photo & Video', '37', '0', '29', '1']\n",
      "\n",
      "\n",
      "['529479190', 'Clash of Clans', '116476928', 'USD', '0.0', '2130805', '579', '4.5', '4.5', '9.24.12', '9+', 'Games', '38', '5', '18', '1']\n",
      "\n",
      "\n",
      "['420009108', 'Temple Run', '65921024', 'USD', '0.0', '1724546', '3842', '4.5', '4.0', '1.6.2', '9+', 'Games', '40', '5', '1', '1']\n",
      "\n",
      "\n",
      "['284035177', 'Pandora - Music & Radio', '130242560', 'USD', '0.0', '1126879', '3594', '4.0', '4.5', '8.4.1', '12+', 'Music', '37', '4', '1', '1']\n",
      "\n",
      "\n",
      "Number of rows: 7197\n",
      "Number of columns: 16\n"
     ]
    }
   ],
   "source": [
    "# Exploring the dataset with a pre-written function\n",
    "def explore_data(dataset, start, end, rows_and_columns=False):\n",
    "    dataset_slice = dataset[start:end]    # Take a slice of the dataset\n",
    "    for row in dataset_slice:\n",
    "        print(row)\n",
    "        print('\\n') # adds a new (empty) line after each row\n",
    "\n",
    "    if rows_and_columns: # if parameter is True, print the lengths.\n",
    "        print('Number of rows:', len(dataset))\n",
    "        print('Number of columns:', len(dataset[0]))\n",
    "        \n",
    "\n",
    "print('Exploring the AppStore Data')\n",
    "print('\\n')\n",
    "\n",
    "print(appstore_header)\n",
    "print('\\n')\n",
    "\n",
    "explore_data(appstore, 0, 5, True)\n"
   ]
  },
  {
   "cell_type": "markdown",
   "metadata": {},
   "source": [
    "## Data Cleaning"
   ]
  },
  {
   "cell_type": "code",
   "execution_count": 3,
   "metadata": {
    "scrolled": true
   },
   "outputs": [
    {
     "name": "stdout",
     "output_type": "stream",
     "text": [
      "Exploring the PlayStore Data\n",
      "\n",
      "\n",
      "['App', 'Category', 'Rating', 'Reviews', 'Size', 'Installs', 'Type', 'Price', 'Content Rating', 'Genres', 'Last Updated', 'Current Ver', 'Android Ver']\n",
      "\n",
      "\n",
      "['Photo Editor & Candy Camera & Grid & ScrapBook', 'ART_AND_DESIGN', '4.1', '159', '19M', '10,000+', 'Free', '0', 'Everyone', 'Art & Design', 'January 7, 2018', '1.0.0', '4.0.3 and up']\n",
      "\n",
      "\n",
      "['Coloring book moana', 'ART_AND_DESIGN', '3.9', '967', '14M', '500,000+', 'Free', '0', 'Everyone', 'Art & Design;Pretend Play', 'January 15, 2018', '2.0.0', '4.0.3 and up']\n",
      "\n",
      "\n",
      "['U Launcher Lite – FREE Live Cool Themes, Hide Apps', 'ART_AND_DESIGN', '4.7', '87510', '8.7M', '5,000,000+', 'Free', '0', 'Everyone', 'Art & Design', 'August 1, 2018', '1.2.4', '4.0.3 and up']\n",
      "\n",
      "\n",
      "['Sketch - Draw & Paint', 'ART_AND_DESIGN', '4.5', '215644', '25M', '50,000,000+', 'Free', '0', 'Teen', 'Art & Design', 'June 8, 2018', 'Varies with device', '4.2 and up']\n",
      "\n",
      "\n",
      "['Pixel Draw - Number Art Coloring Book', 'ART_AND_DESIGN', '4.3', '967', '2.8M', '100,000+', 'Free', '0', 'Everyone', 'Art & Design;Creativity', 'June 20, 2018', '1.1', '4.4 and up']\n",
      "\n",
      "\n",
      "Number of rows: 10841\n",
      "Number of columns: 13\n"
     ]
    }
   ],
   "source": [
    "print('Exploring the PlayStore Data')    \n",
    "print('\\n')\n",
    "print(playstore_header)\n",
    "print('\\n')\n",
    "explore_data(playstore, 0, 5, True) # Using the previous function to explore"
   ]
  },
  {
   "cell_type": "markdown",
   "metadata": {},
   "source": [
    "Our data seems ok. But we have too many rows in our datasets. How can we be sure there aren't problems with the rest of them? We have around 17.000 rows, and for all intents of purpose, there can be all kinds of issues in them. With our limited tools of basic python programming, we're going to try and find the rows with missing values by iterating over both of them."
   ]
  },
  {
   "cell_type": "code",
   "execution_count": 4,
   "metadata": {},
   "outputs": [],
   "source": [
    "# Rows with missing information\n",
    "\n",
    "for row in appstore:\n",
    "    \n",
    "    if len(row) != len(appstore[0]): # if the length of any of the rows in the dataset isn't the same as our problem free row\n",
    "        print(appstore[0])\n",
    "        print(len(appstore[0]))\n",
    "        print(row)\n",
    "        print(len(row)) # print it's information"
   ]
  },
  {
   "cell_type": "code",
   "execution_count": 5,
   "metadata": {},
   "outputs": [
    {
     "name": "stdout",
     "output_type": "stream",
     "text": [
      "['Photo Editor & Candy Camera & Grid & ScrapBook', 'ART_AND_DESIGN', '4.1', '159', '19M', '10,000+', 'Free', '0', 'Everyone', 'Art & Design', 'January 7, 2018', '1.0.0', '4.0.3 and up']\n",
      "13\n",
      "['Life Made WI-Fi Touchscreen Photo Frame', '1.9', '19', '3.0M', '1,000+', 'Free', '0', 'Everyone', '', 'February 11, 2018', '1.0.19', '4.0 and up']\n",
      "12\n",
      "10472\n"
     ]
    }
   ],
   "source": [
    "# Rows with missing information\n",
    "\n",
    "for row in playstore:\n",
    "    \n",
    "    if len(row) != len(playstore[0]):\n",
    "        \n",
    "        print(playstore[0]) # Dataset header\n",
    "        print(len(playstore[0])) # The length of the header (problem free row).\n",
    "        \n",
    "        print(row) # The row containing the mistake.\n",
    "        print(len(row)) # The length of the shorter row.\n",
    "        \n",
    "        print(playstore.index(row)) # The number of the row containing the mistake."
   ]
  },
  {
   "cell_type": "code",
   "execution_count": 6,
   "metadata": {},
   "outputs": [
    {
     "data": {
      "text/plain": [
       "['Life Made WI-Fi Touchscreen Photo Frame',\n",
       " '1.9',\n",
       " '19',\n",
       " '3.0M',\n",
       " '1,000+',\n",
       " 'Free',\n",
       " '0',\n",
       " 'Everyone',\n",
       " '',\n",
       " 'February 11, 2018',\n",
       " '1.0.19',\n",
       " '4.0 and up']"
      ]
     },
     "execution_count": 6,
     "metadata": {},
     "output_type": "execute_result"
    }
   ],
   "source": [
    "playstore[10472]"
   ]
  },
  {
   "cell_type": "markdown",
   "metadata": {},
   "source": [
    "This row has a blank column in it. We can drop it with the del command."
   ]
  },
  {
   "cell_type": "code",
   "execution_count": 7,
   "metadata": {},
   "outputs": [],
   "source": [
    "del playstore[10472]"
   ]
  },
  {
   "cell_type": "markdown",
   "metadata": {},
   "source": [
    "It's gone now."
   ]
  },
  {
   "cell_type": "code",
   "execution_count": 8,
   "metadata": {},
   "outputs": [
    {
     "data": {
      "text/plain": [
       "['osmino Wi-Fi: free WiFi',\n",
       " 'TOOLS',\n",
       " '4.2',\n",
       " '134203',\n",
       " '4.1M',\n",
       " '10,000,000+',\n",
       " 'Free',\n",
       " '0',\n",
       " 'Everyone',\n",
       " 'Tools',\n",
       " 'August 7, 2018',\n",
       " '6.06.14',\n",
       " '4.4 and up']"
      ]
     },
     "execution_count": 8,
     "metadata": {},
     "output_type": "execute_result"
    }
   ],
   "source": [
    "playstore[10472]"
   ]
  },
  {
   "cell_type": "markdown",
   "metadata": {},
   "source": [
    "The discussion at Kaggle confirms that the App Store database has no errors in itself. So there is no further cleaning needed before starting to analyze the dataset.\n",
    "\n",
    "## Duplicate entries\n",
    "\n",
    "But before that, we're going to have to check if there are duplicate entries in these datasets."
   ]
  },
  {
   "cell_type": "code",
   "execution_count": 9,
   "metadata": {},
   "outputs": [
    {
     "name": "stdout",
     "output_type": "stream",
     "text": [
      "number of duplicate apps: 1181\n",
      "\n",
      "\n",
      "Examples of duplicate apps: ['Quick PDF Scanner + OCR FREE', 'Box', 'Google My Business', 'ZOOM Cloud Meetings', 'join.me - Simple Meetings', 'Box', 'Zenefits', 'Google Ads', 'Google My Business', 'Slack', 'FreshBooks Classic', 'Insightly CRM', 'QuickBooks Accounting: Invoicing & Expenses', 'HipChat - Chat Built for Teams', 'Xero Accounting Software']\n"
     ]
    }
   ],
   "source": [
    "duplicate_apps = []\n",
    "unique_apps = []\n",
    "\n",
    "for app in playstore:                    # For every row\n",
    "    \n",
    "    name = app[0]                        # We extract the name of the app\n",
    "    \n",
    "    if name in unique_apps:              # If it's in the list\n",
    "        duplicate_apps.append(name)      # We append to the duplicated list\n",
    "        \n",
    "    else:\n",
    "        unique_apps.append(name)         # If it's not, we append to unique apps list.\n",
    "        \n",
    "print('number of duplicate apps:', len(duplicate_apps))\n",
    "print('\\n')\n",
    "print('Examples of duplicate apps:', duplicate_apps[:15])\n",
    "print('\\n')"
   ]
  },
  {
   "cell_type": "markdown",
   "metadata": {},
   "source": [
    "The dataset has duplicate entries and has plenty of them. It doesn't need to count apps more than once when we analyze data, so we need to remove the duplicates and keep single entries per app. We could remove duplicate rows, making the process a bit random, but we're going to look for a better way. We're going to start by examining the rows for the Instagram app."
   ]
  },
  {
   "cell_type": "code",
   "execution_count": 10,
   "metadata": {},
   "outputs": [
    {
     "name": "stdout",
     "output_type": "stream",
     "text": [
      "['Instagram', 'SOCIAL', '4.5', '66577313', 'Varies with device', '1,000,000,000+', 'Free', '0', 'Teen', 'Social', 'July 31, 2018', 'Varies with device', 'Varies with device']\n",
      "['Instagram', 'SOCIAL', '4.5', '66577446', 'Varies with device', '1,000,000,000+', 'Free', '0', 'Teen', 'Social', 'July 31, 2018', 'Varies with device', 'Varies with device']\n",
      "['Instagram', 'SOCIAL', '4.5', '66577313', 'Varies with device', '1,000,000,000+', 'Free', '0', 'Teen', 'Social', 'July 31, 2018', 'Varies with device', 'Varies with device']\n",
      "['Instagram', 'SOCIAL', '4.5', '66509917', 'Varies with device', '1,000,000,000+', 'Free', '0', 'Teen', 'Social', 'July 31, 2018', 'Varies with device', 'Varies with device']\n"
     ]
    }
   ],
   "source": [
    "for app in playstore:\n",
    "    name = app[0]\n",
    "    if name == 'Instagram':\n",
    "        print(app)"
   ]
  },
  {
   "cell_type": "markdown",
   "metadata": {
    "collapsed": true
   },
   "source": [
    "The dataset contains four entries for the Instagram app, and the only column that varies is the review counts column. Which means the one with the higher count is the most recent data of all four. So we're going to keep it and remove others."
   ]
  },
  {
   "cell_type": "code",
   "execution_count": 11,
   "metadata": {},
   "outputs": [
    {
     "data": {
      "text/plain": [
       "9659"
      ]
     },
     "execution_count": 11,
     "metadata": {},
     "output_type": "execute_result"
    }
   ],
   "source": [
    "reviews_max = {}\n",
    "\n",
    "for app in playstore: # For every row\n",
    "    \n",
    "    name = app[0] # We extract the app's name\n",
    "    n_reviews= float(app[3]) # We extract the number of reviews\n",
    "    \n",
    "    if (name in reviews_max) and (reviews_max[name] < n_reviews): # If the name's in dictionary and has more reviews\n",
    "        reviews_max[name] = n_reviews # We take it as our data\n",
    "        \n",
    "    if name not in reviews_max: # if not in the list\n",
    "        reviews_max[name] = n_reviews # we add it\n",
    "        \n",
    "len(reviews_max)"
   ]
  },
  {
   "cell_type": "markdown",
   "metadata": {},
   "source": [
    "The code above works, and it works precisely because we don't include an else statement. The code updates the entry ONLY if the review count is lower than the entry at hand. And it adds a key to the dictionary if the name of the entry is not in it. Two if statements that deal with the two conditions we're interested in.\n",
    "\n",
    "This dictionary contains only the most recent entries of the apps we have in our `playstore` database. We can use it to remove duplicate entries."
   ]
  },
  {
   "cell_type": "code",
   "execution_count": 12,
   "metadata": {},
   "outputs": [
    {
     "name": "stdout",
     "output_type": "stream",
     "text": [
      "9659\n"
     ]
    },
    {
     "data": {
      "text/plain": [
       "[['Photo Editor & Candy Camera & Grid & ScrapBook',\n",
       "  'ART_AND_DESIGN',\n",
       "  '4.1',\n",
       "  '159',\n",
       "  '19M',\n",
       "  '10,000+',\n",
       "  'Free',\n",
       "  '0',\n",
       "  'Everyone',\n",
       "  'Art & Design',\n",
       "  'January 7, 2018',\n",
       "  '1.0.0',\n",
       "  '4.0.3 and up'],\n",
       " ['U Launcher Lite – FREE Live Cool Themes, Hide Apps',\n",
       "  'ART_AND_DESIGN',\n",
       "  '4.7',\n",
       "  '87510',\n",
       "  '8.7M',\n",
       "  '5,000,000+',\n",
       "  'Free',\n",
       "  '0',\n",
       "  'Everyone',\n",
       "  'Art & Design',\n",
       "  'August 1, 2018',\n",
       "  '1.2.4',\n",
       "  '4.0.3 and up'],\n",
       " ['Sketch - Draw & Paint',\n",
       "  'ART_AND_DESIGN',\n",
       "  '4.5',\n",
       "  '215644',\n",
       "  '25M',\n",
       "  '50,000,000+',\n",
       "  'Free',\n",
       "  '0',\n",
       "  'Teen',\n",
       "  'Art & Design',\n",
       "  'June 8, 2018',\n",
       "  'Varies with device',\n",
       "  '4.2 and up'],\n",
       " ['Pixel Draw - Number Art Coloring Book',\n",
       "  'ART_AND_DESIGN',\n",
       "  '4.3',\n",
       "  '967',\n",
       "  '2.8M',\n",
       "  '100,000+',\n",
       "  'Free',\n",
       "  '0',\n",
       "  'Everyone',\n",
       "  'Art & Design;Creativity',\n",
       "  'June 20, 2018',\n",
       "  '1.1',\n",
       "  '4.4 and up'],\n",
       " ['Paper flowers instructions',\n",
       "  'ART_AND_DESIGN',\n",
       "  '4.4',\n",
       "  '167',\n",
       "  '5.6M',\n",
       "  '50,000+',\n",
       "  'Free',\n",
       "  '0',\n",
       "  'Everyone',\n",
       "  'Art & Design',\n",
       "  'March 26, 2017',\n",
       "  '1.0',\n",
       "  '2.3 and up']]"
      ]
     },
     "execution_count": 12,
     "metadata": {},
     "output_type": "execute_result"
    }
   ],
   "source": [
    "android_clean = [] # Our new list\n",
    "already_added = [] # The list we'll throw the duplicates at\n",
    "\n",
    "for app in playstore: \n",
    "    \n",
    "    name = app[0]\n",
    "    n_reviews = float(app[3])\n",
    "    \n",
    "    if (n_reviews == reviews_max[name]) and (name not in already_added): # If it's the one in our reviews_max, we'll take it\n",
    "        android_clean.append(app)\n",
    "        already_added.append(name)\n",
    "        \n",
    "print(len(android_clean))\n",
    "android_clean[:5]"
   ]
  },
  {
   "cell_type": "markdown",
   "metadata": {},
   "source": [
    "The length is what we expected: 9659\n",
    "\n",
    "Our process was a success. We've removed the duplicate entries. We are now going to make sure that all the apps in the dataset are for our target audience. We work for a company that develops in English, and our efforts directed towards an English-speaking audience. Now let's check the app names for what we call abnormalities in the form of nonlatin alphabet letters."
   ]
  },
  {
   "cell_type": "code",
   "execution_count": 13,
   "metadata": {},
   "outputs": [
    {
     "name": "stdout",
     "output_type": "stream",
     "text": [
      "爱奇艺PPS -《欢乐颂2》电视剧热播\n",
      "【脱出ゲーム】絶対に最後までプレイしないで 〜謎解き＆ブロックパズル〜\n",
      "\n",
      "\n",
      "中国語 AQリスニング\n",
      "لعبة تقدر تربح DZ\n"
     ]
    }
   ],
   "source": [
    "print(appstore[813][1])\n",
    "print(appstore[6731][1])\n",
    "print('\\n')\n",
    "print(android_clean[4412][0])\n",
    "print(android_clean[7940][0])"
   ]
  },
  {
   "cell_type": "markdown",
   "metadata": {},
   "source": [
    "Here are they! These characters are not Latin-alphabet names, so they aren't targeted towards our English-speaking audience. To remove them from our database, we're going to have to work with ASCII codes.\n",
    "\n",
    "For example, if you Alt + 68 on any text editor you're going to have: D (upper and lower are different). These are codes on how the machine side of our computers uses. ASCII stands for American Standard Code for Information and is limited to 127, which means any letter with codes above 127 aren't any use to us.\n",
    "\n",
    "Let's write a function that returns False or True depending on the character's code so we can find use it to find unwanted apps later."
   ]
  },
  {
   "cell_type": "code",
   "execution_count": 14,
   "metadata": {},
   "outputs": [
    {
     "name": "stdout",
     "output_type": "stream",
     "text": [
      "True\n",
      "False\n",
      "False\n",
      "False\n"
     ]
    }
   ],
   "source": [
    "def isenglish(string): # Take a string\n",
    "    \n",
    "    for characters in string: # Iterate over every single character in it\n",
    "        \n",
    "        if ord(characters) > 127: # If it's code is above 127\n",
    "            return False  # Return false\n",
    "        \n",
    "    return True\n",
    "\n",
    "print(isenglish('Instagram'))\n",
    "print(isenglish('爱奇艺PPS -《欢乐颂2》电视剧热播'))\n",
    "print(isenglish('Docs To Go™ Free Office Suite'))\n",
    "print(isenglish('Instachat 😜'))"
   ]
  },
  {
   "cell_type": "markdown",
   "metadata": {},
   "source": [
    "The result is problematic. The third and fourth apps are English but still returns a False. To not lose useful data, we are going to need a workaround. A quick fix that pops in my mind is to check if the app name has more than three non-ASCII characters. The result will secure emojis, and other extra characters won't throw off our function."
   ]
  },
  {
   "cell_type": "code",
   "execution_count": 15,
   "metadata": {},
   "outputs": [
    {
     "name": "stdout",
     "output_type": "stream",
     "text": [
      "True\n",
      "False\n",
      "True\n",
      "True\n"
     ]
    }
   ],
   "source": [
    "def isenglish(string):\n",
    "    noneng = 0 # A variable to count nonlating characters\n",
    "    \n",
    "    for characters in string:\n",
    "        \n",
    "         if ord(characters) > 127: # If it's above 127\n",
    "            noneng += 1 # Add to the count\n",
    "            \n",
    "    if noneng > 3: # If the number is more than 3\n",
    "        return False\n",
    "    else:\n",
    "        return True\n",
    "    \n",
    "print(isenglish('Instagram'))\n",
    "print(isenglish('爱奇艺PPS -《欢乐颂2》电视剧热播'))\n",
    "print(isenglish('Docs To Go™ Free Office Suite'))\n",
    "print(isenglish('Instachat 😜'))"
   ]
  },
  {
   "cell_type": "markdown",
   "metadata": {},
   "source": [
    "Voila! This works! Now lets use it in our datasets."
   ]
  },
  {
   "cell_type": "code",
   "execution_count": 16,
   "metadata": {},
   "outputs": [
    {
     "name": "stdout",
     "output_type": "stream",
     "text": [
      "English named Play Store apps 9614\n",
      "English named IOS App Store apps 6183\n"
     ]
    }
   ],
   "source": [
    "playstore_english = [] # Our new list for Play Store\n",
    "\n",
    "for apps in android_clean:\n",
    "    name = apps[0]\n",
    "    if isenglish(name):\n",
    "        playstore_english.append(apps)\n",
    "        \n",
    "appstore_english = [] # Our new list for App Store\n",
    "for apps in appstore:\n",
    "    name = apps[1]\n",
    "    if isenglish(name):\n",
    "        appstore_english.append(apps)\n",
    "\n",
    "print('English named Play Store apps ' + str(len(playstore_english)))\n",
    "print('English named IOS App Store apps ' + str(len(appstore_english)))"
   ]
  },
  {
   "cell_type": "markdown",
   "metadata": {},
   "source": [
    "Our firm develops games that are free to download and focus on in-app revenues through ads. Another subsetting we need to implement is to filter the apps so that we're only left with the free to download apps."
   ]
  },
  {
   "cell_type": "code",
   "execution_count": 17,
   "metadata": {},
   "outputs": [
    {
     "name": "stdout",
     "output_type": "stream",
     "text": [
      "Free to download Play Store apps 8864\n",
      "Free to download IOS App Store apps 3222\n"
     ]
    }
   ],
   "source": [
    "appstore_free = []\n",
    "playstore_free = []\n",
    "\n",
    "for apps in playstore_english:\n",
    "    price = apps[7] # Extract the price from the row\n",
    "    if price == '0': # if it's 0\n",
    "        playstore_free.append(apps) # take it\n",
    "\n",
    "for apps in appstore_english:\n",
    "    price = apps[4]\n",
    "    if price == '0.0':\n",
    "        appstore_free.append(apps)\n",
    "    \n",
    "\n",
    "print('Free to download Play Store apps ' + str(len(playstore_free)))\n",
    "print('Free to download IOS App Store apps ' + str(len(appstore_free)))    "
   ]
  },
  {
   "cell_type": "markdown",
   "metadata": {
    "collapsed": true
   },
   "source": [
    "## Data Analysis\n",
    "\n",
    "Having finished cleaning the dataset we can now focus on analyzing the data.\n",
    "\n",
    "As mentioned in the introduction, we aim to determine the kinds of apps that are likely to attract more users because our revenue is from the number of people using our apps.\n",
    "\n",
    "To minimize risks and overhead, our validation strategy for an app idea is comprised of three steps:\n",
    "\n",
    "Build a minimal Android version of the app, and add it to Google Play.\n",
    "If the app has a good response from users, we develop it further.\n",
    "If the app is profitable after six months, we build an iOS version of the app and add it to the App Store.\n",
    "\n",
    "Because our end goal is to add the app on both Google Play and the App Store, we need to find app profiles that are successful in both markets. For instance, a profile that works well for both markets might be a productivity app that makes use of gamification.\n",
    "\n",
    "Let's begin the analysis by getting a sense of what are the most common genres for each market. For this, we'll need to build frequency tables for a few columns in our data sets."
   ]
  },
  {
   "cell_type": "code",
   "execution_count": 18,
   "metadata": {},
   "outputs": [
    {
     "data": {
      "text/plain": [
       "['App',\n",
       " 'Category',\n",
       " 'Rating',\n",
       " 'Reviews',\n",
       " 'Size',\n",
       " 'Installs',\n",
       " 'Type',\n",
       " 'Price',\n",
       " 'Content Rating',\n",
       " 'Genres',\n",
       " 'Last Updated',\n",
       " 'Current Ver',\n",
       " 'Android Ver']"
      ]
     },
     "execution_count": 18,
     "metadata": {},
     "output_type": "execute_result"
    }
   ],
   "source": [
    "playstore_header"
   ]
  },
  {
   "cell_type": "code",
   "execution_count": 19,
   "metadata": {},
   "outputs": [],
   "source": [
    "def freq_table(dataset, index):\n",
    "    table = {}\n",
    "    total = 0\n",
    "    for rows in dataset:\n",
    "        total += 1\n",
    "        content = rows[index]\n",
    "        if content in table:\n",
    "            table[content] += 1\n",
    "        else:\n",
    "            table[content] = 1\n",
    "    \n",
    "    table_percentages = {}\n",
    "    for key in table:\n",
    "        percentage = (table[key] / total) * 100\n",
    "        table_percentages[key] = percentage\n",
    "    return table_percentages\n",
    "        \n",
    "def display_table(dataset, index):\n",
    "    table = freq_table(dataset, index)\n",
    "    table_display = []\n",
    "    for key in table:\n",
    "        key_val_as_tuple = (table[key], key)\n",
    "        table_display.append(key_val_as_tuple)\n",
    "    \n",
    "    table_sorted = sorted(table_display, reverse = True)\n",
    "    for entry in table_sorted:\n",
    "        print(entry[1], ':', entry[0])"
   ]
  },
  {
   "cell_type": "code",
   "execution_count": 20,
   "metadata": {},
   "outputs": [
    {
     "name": "stdout",
     "output_type": "stream",
     "text": [
      "Games : 58.16263190564867\n",
      "Entertainment : 7.883302296710118\n",
      "Photo & Video : 4.9658597144630665\n",
      "Education : 3.662321539416512\n",
      "Social Networking : 3.2898820608317814\n",
      "Shopping : 2.60707635009311\n",
      "Utilities : 2.5139664804469275\n",
      "Sports : 2.1415270018621975\n",
      "Music : 2.0484171322160147\n",
      "Health & Fitness : 2.0173805090006205\n",
      "Productivity : 1.7380509000620732\n",
      "Lifestyle : 1.5828677839851024\n",
      "News : 1.3345747982619491\n",
      "Travel : 1.2414649286157666\n",
      "Finance : 1.1173184357541899\n",
      "Weather : 0.8690254500310366\n",
      "Food & Drink : 0.8069522036002483\n",
      "Reference : 0.5586592178770949\n",
      "Business : 0.5276225946617008\n",
      "Book : 0.4345127250155183\n",
      "Navigation : 0.186219739292365\n",
      "Medical : 0.186219739292365\n",
      "Catalogs : 0.12414649286157665\n"
     ]
    }
   ],
   "source": [
    "display_table(appstore_free, 11)"
   ]
  },
  {
   "cell_type": "markdown",
   "metadata": {},
   "source": [
    "Now, we have our frequency table on free English Appstore apps. We see that most of them (more than half) are Games at %58. It's followed by Entertainment (%7.8) and Photo & Video (%4.96). With Education (%3.7) and Social Networking (%3.3) being the other two in our Top 5 we can conclude that Appstore (at least in free-English filters) populated by `fun` applications rather than practicals such as education, productivity, shopping, lifestyle.\n",
    "\n",
    "This step doesn't conclude our discussion since just because there are more apps in one category doesn't mean there are more users who are using them. The demand might not be the same as the offer.\n",
    "\n",
    "Let's continue by having a look at the Google Play Store."
   ]
  },
  {
   "cell_type": "code",
   "execution_count": 21,
   "metadata": {},
   "outputs": [
    {
     "name": "stdout",
     "output_type": "stream",
     "text": [
      "FAMILY : 18.907942238267147\n",
      "GAME : 9.724729241877256\n",
      "TOOLS : 8.461191335740072\n",
      "BUSINESS : 4.591606498194946\n",
      "LIFESTYLE : 3.9034296028880866\n",
      "PRODUCTIVITY : 3.892148014440433\n",
      "FINANCE : 3.7003610108303246\n",
      "MEDICAL : 3.531137184115524\n",
      "SPORTS : 3.395758122743682\n",
      "PERSONALIZATION : 3.3167870036101084\n",
      "COMMUNICATION : 3.2378158844765346\n",
      "HEALTH_AND_FITNESS : 3.0798736462093865\n",
      "PHOTOGRAPHY : 2.944494584837545\n",
      "NEWS_AND_MAGAZINES : 2.7978339350180503\n",
      "SOCIAL : 2.6624548736462095\n",
      "TRAVEL_AND_LOCAL : 2.33528880866426\n",
      "SHOPPING : 2.2450361010830324\n",
      "BOOKS_AND_REFERENCE : 2.1435018050541514\n",
      "DATING : 1.861462093862816\n",
      "VIDEO_PLAYERS : 1.7937725631768955\n",
      "MAPS_AND_NAVIGATION : 1.3989169675090252\n",
      "FOOD_AND_DRINK : 1.2409747292418771\n",
      "EDUCATION : 1.1620036101083033\n",
      "ENTERTAINMENT : 0.9589350180505415\n",
      "LIBRARIES_AND_DEMO : 0.9363718411552346\n",
      "AUTO_AND_VEHICLES : 0.9250902527075812\n",
      "HOUSE_AND_HOME : 0.8235559566787004\n",
      "WEATHER : 0.8009927797833934\n",
      "EVENTS : 0.7107400722021661\n",
      "PARENTING : 0.6543321299638989\n",
      "ART_AND_DESIGN : 0.6430505415162455\n",
      "COMICS : 0.6204873646209386\n",
      "BEAUTY : 0.5979241877256317\n"
     ]
    }
   ],
   "source": [
    "display_table(playstore_free, 1) # Category column"
   ]
  },
  {
   "cell_type": "markdown",
   "metadata": {},
   "source": [
    "The trend changes drastically in Google Play Store. Games are the only fun app in the most popular categories at %9.8. While Family, Tools, Productivity, Finance, Business, Life Style category dominates the list. The problem with this is though arbitrary names such as Family and Business.\n",
    "\n",
    "What does the category Family contain? It turns out its mostly games for kids!\n",
    "\n",
    "\n",
    "\n",
    "![title](https://camo.githubusercontent.com/9bf24b9efc3d88a3d55f5c09e314987941f0bab5/68747470733a2f2f73332e616d617a6f6e6177732e636f6d2f64712d636f6e74656e742f3335302f7079316d385f66616d696c792e706e67)\n",
    "\n",
    "\n",
    "Still, the practical apps have more presence in Google Playstore compared to the Appstore."
   ]
  },
  {
   "cell_type": "code",
   "execution_count": 22,
   "metadata": {},
   "outputs": [
    {
     "name": "stdout",
     "output_type": "stream",
     "text": [
      "Tools : 8.449909747292418\n",
      "Entertainment : 6.069494584837545\n",
      "Education : 5.347472924187725\n",
      "Business : 4.591606498194946\n",
      "Productivity : 3.892148014440433\n",
      "Lifestyle : 3.892148014440433\n",
      "Finance : 3.7003610108303246\n",
      "Medical : 3.531137184115524\n",
      "Sports : 3.463447653429603\n",
      "Personalization : 3.3167870036101084\n",
      "Communication : 3.2378158844765346\n",
      "Action : 3.1024368231046933\n",
      "Health & Fitness : 3.0798736462093865\n",
      "Photography : 2.944494584837545\n",
      "News & Magazines : 2.7978339350180503\n",
      "Social : 2.6624548736462095\n",
      "Travel & Local : 2.3240072202166067\n",
      "Shopping : 2.2450361010830324\n",
      "Books & Reference : 2.1435018050541514\n",
      "Simulation : 2.0419675090252705\n",
      "Dating : 1.861462093862816\n",
      "Arcade : 1.8501805054151623\n",
      "Video Players & Editors : 1.7712093862815883\n",
      "Casual : 1.7599277978339352\n",
      "Maps & Navigation : 1.3989169675090252\n",
      "Food & Drink : 1.2409747292418771\n",
      "Puzzle : 1.128158844765343\n",
      "Racing : 0.9927797833935018\n",
      "Role Playing : 0.9363718411552346\n",
      "Libraries & Demo : 0.9363718411552346\n",
      "Auto & Vehicles : 0.9250902527075812\n",
      "Strategy : 0.9138086642599278\n",
      "House & Home : 0.8235559566787004\n",
      "Weather : 0.8009927797833934\n",
      "Events : 0.7107400722021661\n",
      "Adventure : 0.6768953068592057\n",
      "Comics : 0.6092057761732852\n",
      "Beauty : 0.5979241877256317\n",
      "Art & Design : 0.5979241877256317\n",
      "Parenting : 0.4963898916967509\n",
      "Card : 0.45126353790613716\n",
      "Casino : 0.42870036101083037\n",
      "Trivia : 0.41741877256317694\n",
      "Educational;Education : 0.39485559566787\n",
      "Board : 0.3835740072202166\n",
      "Educational : 0.3722924187725632\n",
      "Education;Education : 0.33844765342960287\n",
      "Word : 0.2594765342960289\n",
      "Casual;Pretend Play : 0.236913357400722\n",
      "Music : 0.2030685920577617\n",
      "Racing;Action & Adventure : 0.16922382671480143\n",
      "Puzzle;Brain Games : 0.16922382671480143\n",
      "Entertainment;Music & Video : 0.16922382671480143\n",
      "Casual;Brain Games : 0.13537906137184114\n",
      "Casual;Action & Adventure : 0.13537906137184114\n",
      "Arcade;Action & Adventure : 0.12409747292418773\n",
      "Action;Action & Adventure : 0.10153429602888085\n",
      "Educational;Pretend Play : 0.09025270758122744\n",
      "Simulation;Action & Adventure : 0.078971119133574\n",
      "Parenting;Education : 0.078971119133574\n",
      "Entertainment;Brain Games : 0.078971119133574\n",
      "Board;Brain Games : 0.078971119133574\n",
      "Parenting;Music & Video : 0.06768953068592057\n",
      "Educational;Brain Games : 0.06768953068592057\n",
      "Casual;Creativity : 0.06768953068592057\n",
      "Art & Design;Creativity : 0.06768953068592057\n",
      "Education;Pretend Play : 0.056407942238267145\n",
      "Role Playing;Pretend Play : 0.04512635379061372\n",
      "Education;Creativity : 0.04512635379061372\n",
      "Role Playing;Action & Adventure : 0.033844765342960284\n",
      "Puzzle;Action & Adventure : 0.033844765342960284\n",
      "Entertainment;Creativity : 0.033844765342960284\n",
      "Entertainment;Action & Adventure : 0.033844765342960284\n",
      "Educational;Creativity : 0.033844765342960284\n",
      "Educational;Action & Adventure : 0.033844765342960284\n",
      "Education;Music & Video : 0.033844765342960284\n",
      "Education;Brain Games : 0.033844765342960284\n",
      "Education;Action & Adventure : 0.033844765342960284\n",
      "Adventure;Action & Adventure : 0.033844765342960284\n",
      "Video Players & Editors;Music & Video : 0.02256317689530686\n",
      "Sports;Action & Adventure : 0.02256317689530686\n",
      "Simulation;Pretend Play : 0.02256317689530686\n",
      "Puzzle;Creativity : 0.02256317689530686\n",
      "Music;Music & Video : 0.02256317689530686\n",
      "Entertainment;Pretend Play : 0.02256317689530686\n",
      "Casual;Education : 0.02256317689530686\n",
      "Board;Action & Adventure : 0.02256317689530686\n",
      "Video Players & Editors;Creativity : 0.01128158844765343\n",
      "Trivia;Education : 0.01128158844765343\n",
      "Travel & Local;Action & Adventure : 0.01128158844765343\n",
      "Tools;Education : 0.01128158844765343\n",
      "Strategy;Education : 0.01128158844765343\n",
      "Strategy;Creativity : 0.01128158844765343\n",
      "Strategy;Action & Adventure : 0.01128158844765343\n",
      "Simulation;Education : 0.01128158844765343\n",
      "Role Playing;Brain Games : 0.01128158844765343\n",
      "Racing;Pretend Play : 0.01128158844765343\n",
      "Puzzle;Education : 0.01128158844765343\n",
      "Parenting;Brain Games : 0.01128158844765343\n",
      "Music & Audio;Music & Video : 0.01128158844765343\n",
      "Lifestyle;Pretend Play : 0.01128158844765343\n",
      "Lifestyle;Education : 0.01128158844765343\n",
      "Health & Fitness;Education : 0.01128158844765343\n",
      "Health & Fitness;Action & Adventure : 0.01128158844765343\n",
      "Entertainment;Education : 0.01128158844765343\n",
      "Communication;Creativity : 0.01128158844765343\n",
      "Comics;Creativity : 0.01128158844765343\n",
      "Casual;Music & Video : 0.01128158844765343\n",
      "Card;Action & Adventure : 0.01128158844765343\n",
      "Books & Reference;Education : 0.01128158844765343\n",
      "Art & Design;Pretend Play : 0.01128158844765343\n",
      "Art & Design;Action & Adventure : 0.01128158844765343\n",
      "Arcade;Pretend Play : 0.01128158844765343\n",
      "Adventure;Education : 0.01128158844765343\n"
     ]
    }
   ],
   "source": [
    "display_table(playstore_free, -4) # Genres"
   ]
  },
  {
   "cell_type": "markdown",
   "metadata": {},
   "source": [
    "`Genres` column is more in detail. The data are more divided and have more defining variables. Since we have that from our `Category` column, this became obsolete.\n",
    "\n",
    "What do we know?\n",
    "\n",
    "We now know that fun apps dominate Appstore and practical ones. Play Store with Games is still relevant and possibly the most popular category in Playstore as well - although nowhere near overlooking as it is in Appstore.\n",
    "\n",
    "Does this correlate to where the users are? Which apps are the most popular, have the most user count?\n",
    "\n",
    "How do you measure where the users are? The installation numbers are a good measure. For the Google Play data set, we can find this information in the `Installs` column, but this information is missing for the App Store data set.\n",
    "\n",
    "To work around this, we're going to use the count of the user's reviews of the apps. `rating_count_tot` is the column we're looking for. We will start by calculating the average number of user ratings per app genre on the App Store."
   ]
  },
  {
   "cell_type": "code",
   "execution_count": 23,
   "metadata": {},
   "outputs": [
    {
     "name": "stdout",
     "output_type": "stream",
     "text": [
      "Social Networking : 71548.34905660378\n",
      "Photo & Video : 28441.54375\n",
      "Games : 22788.6696905016\n",
      "Music : 57326.530303030304\n",
      "Reference : 74942.11111111111\n",
      "Health & Fitness : 23298.015384615384\n",
      "Weather : 52279.892857142855\n",
      "Utilities : 18684.456790123455\n",
      "Travel : 28243.8\n",
      "Shopping : 26919.690476190477\n",
      "News : 21248.023255813954\n",
      "Navigation : 86090.33333333333\n",
      "Lifestyle : 16485.764705882353\n",
      "Entertainment : 14029.830708661417\n",
      "Food & Drink : 33333.92307692308\n",
      "Sports : 23008.898550724636\n",
      "Book : 39758.5\n",
      "Finance : 31467.944444444445\n",
      "Education : 7003.983050847458\n",
      "Productivity : 21028.410714285714\n",
      "Business : 7491.117647058823\n",
      "Catalogs : 4004.0\n",
      "Medical : 612.0\n"
     ]
    }
   ],
   "source": [
    "genres_ios = freq_table(appstore_free, -5)\n",
    "\n",
    "for genre in genres_ios:\n",
    "    total = 0\n",
    "    len_genre = 0\n",
    "    for rows in appstore_free:\n",
    "        genre_app = rows[-5]\n",
    "        if genre_app == genre:\n",
    "            n_ratings = float(rows[5])\n",
    "            total += n_ratings\n",
    "            len_genre += 1\n",
    "    avg_user_rating = total / len_genre\n",
    "    print(genre, ':', avg_user_rating)"
   ]
  },
  {
   "cell_type": "markdown",
   "metadata": {},
   "source": [
    "Let's take a closer look at genres with highest number of ratings:"
   ]
  },
  {
   "cell_type": "code",
   "execution_count": 24,
   "metadata": {},
   "outputs": [
    {
     "name": "stdout",
     "output_type": "stream",
     "text": [
      "Waze - GPS Navigation, Maps & Real-time Traffic : 345046\n",
      "Google Maps - Navigation & Transit : 154911\n",
      "Geocaching® : 12811\n",
      "CoPilot GPS – Car Navigation & Offline Maps : 3582\n",
      "ImmobilienScout24: Real Estate Search in Germany : 187\n",
      "Railway Route Search : 5\n"
     ]
    }
   ],
   "source": [
    "for app in appstore_free:\n",
    "    if app[-5] == 'Navigation':\n",
    "        print(app[1], ':', app[5]) # print name and number of ratings"
   ]
  },
  {
   "cell_type": "markdown",
   "metadata": {},
   "source": [
    "As you can see, a couple of apps are dominating the charts. So it isn't a trend but the domination of a couple of apps. The same applies to Social Networking group where apps like Facebook, Pinterest, Skype account for almost of the share. We can deal with this by setting a threshold for the number of ratings and exclude them from our analysis. But we won't go into such a level of detail now.\n",
    "\n",
    "On the other hand, there is the `Reference` genre:"
   ]
  },
  {
   "cell_type": "code",
   "execution_count": 25,
   "metadata": {},
   "outputs": [
    {
     "name": "stdout",
     "output_type": "stream",
     "text": [
      "Bible : 985920\n",
      "Dictionary.com Dictionary & Thesaurus : 200047\n",
      "Dictionary.com Dictionary & Thesaurus for iPad : 54175\n",
      "Google Translate : 26786\n",
      "Muslim Pro: Ramadan 2017 Prayer Times, Azan, Quran : 18418\n",
      "New Furniture Mods - Pocket Wiki & Game Tools for Minecraft PC Edition : 17588\n",
      "Merriam-Webster Dictionary : 16849\n",
      "Night Sky : 12122\n",
      "City Maps for Minecraft PE - The Best Maps for Minecraft Pocket Edition (MCPE) : 8535\n",
      "LUCKY BLOCK MOD ™ for Minecraft PC Edition - The Best Pocket Wiki & Mods Installer Tools : 4693\n",
      "GUNS MODS for Minecraft PC Edition - Mods Tools : 1497\n",
      "Guides for Pokémon GO - Pokemon GO News and Cheats : 826\n",
      "WWDC : 762\n",
      "Horror Maps for Minecraft PE - Download The Scariest Maps for Minecraft Pocket Edition (MCPE) Free : 718\n",
      "VPN Express : 14\n",
      "Real Bike Traffic Rider Virtual Reality Glasses : 8\n",
      "教えて!goo : 0\n",
      "Jishokun-Japanese English Dictionary & Translator : 0\n"
     ]
    }
   ],
   "source": [
    "for app in appstore_free:\n",
    "    if app[-5] == 'Reference':\n",
    "        print(app[1], ':', app[5]) # print name and number of ratings"
   ]
  },
  {
   "cell_type": "markdown",
   "metadata": {
    "collapsed": true
   },
   "source": [
    "## Our take on App Store\n",
    "\n",
    "We have ourselves a catch right here. References category has somewhat of an excellent distribution. You can argue this is as well a monopoly of some popular books in the form of religious texts and dictionaries. But religious text apps can be copied, and there can be lots of dictionaries for slangs.\n",
    "\n",
    "Besides those two big scopes of ideas, the market is full of life. There are references for games, pieces of music, there may be for technical fields and Wikia like pages for mangas and animes.\n",
    "\n",
    "Audiobooks and references for popular hits like Game of Thrones come to mind, Lord of the Rings and Harry Potter are only the other two pops up to mind.\n",
    "\n",
    "This general picture confirms as well our conception that the fun side of things dominates the App Store. The result is expected since we're continuing our analysis with the same dataset, however.\n",
    "\n",
    "The other genres that might be used to us are weather, book, drinks, and food.\n",
    "\n",
    "Weather apps are a possibility but must be very detailed and perhaps show historical data to keep users' interest high to achieve long app-use times. Weather apps, in most cases, are used in short bursts. People take a quick look at what the weather is going to be and turn the app off. So these shortcomings need some work.\n",
    "\n",
    "Food and drink apps are broad in scope. Having an actual delivery system won't work as it's a very competitive scene, and you can't just as quick startup from zero. Recipe apps can be fun, and people will spend time on them, especially with personalization.\n",
    "\n",
    "Now, onto Google Play Store.\n",
    "\n",
    "Google Play dataset has installed columns, so we should be able to get a clearer picture of genre popularity. However, the install numbers don't seem precise enough -- we can see that most values are categorical."
   ]
  },
  {
   "cell_type": "code",
   "execution_count": 26,
   "metadata": {},
   "outputs": [
    {
     "name": "stdout",
     "output_type": "stream",
     "text": [
      "1,000,000+ : 15.726534296028879\n",
      "100,000+ : 11.552346570397113\n",
      "10,000,000+ : 10.548285198555957\n",
      "10,000+ : 10.198555956678701\n",
      "1,000+ : 8.393501805054152\n",
      "100+ : 6.915613718411552\n",
      "5,000,000+ : 6.825361010830325\n",
      "500,000+ : 5.561823104693141\n",
      "50,000+ : 4.7721119133574\n",
      "5,000+ : 4.512635379061372\n",
      "10+ : 3.5424187725631766\n",
      "500+ : 3.2490974729241873\n",
      "50,000,000+ : 2.3014440433213\n",
      "100,000,000+ : 2.1322202166064983\n",
      "50+ : 1.917870036101083\n",
      "5+ : 0.78971119133574\n",
      "1+ : 0.5076714801444043\n",
      "500,000,000+ : 0.2707581227436823\n",
      "1,000,000,000+ : 0.22563176895306858\n",
      "0+ : 0.04512635379061372\n",
      "0 : 0.01128158844765343\n"
     ]
    }
   ],
   "source": [
    "display_table(playstore_free, 5)"
   ]
  },
  {
   "cell_type": "markdown",
   "metadata": {
    "collapsed": true
   },
   "source": [
    "We don't know whether an app with 100,000+ installs has 100 or 200 or 300k installs. For our purposes, we don't need our data to be this precise, however. Aggravations such as this scale are just as good as it is enough to give a clear picture.\n",
    "\n",
    "However, to compute the numbers, we're going to have to convert the values from str to float. In our steps, we're going to have to remove the commas and, plus characters, then cast them as a float."
   ]
  },
  {
   "cell_type": "code",
   "execution_count": 27,
   "metadata": {
    "scrolled": true
   },
   "outputs": [
    {
     "name": "stdout",
     "output_type": "stream",
     "text": [
      "ART_AND_DESIGN : 1986335.0877192982\n",
      "AUTO_AND_VEHICLES : 647317.8170731707\n",
      "BEAUTY : 513151.88679245283\n",
      "BOOKS_AND_REFERENCE : 8767811.894736841\n",
      "BUSINESS : 1712290.1474201474\n",
      "COMICS : 817657.2727272727\n",
      "COMMUNICATION : 38456119.167247385\n",
      "DATING : 854028.8303030303\n",
      "EDUCATION : 1833495.145631068\n",
      "ENTERTAINMENT : 11640705.88235294\n",
      "EVENTS : 253542.22222222222\n",
      "FINANCE : 1387692.475609756\n",
      "FOOD_AND_DRINK : 1924897.7363636363\n",
      "HEALTH_AND_FITNESS : 4188821.9853479853\n",
      "HOUSE_AND_HOME : 1331540.5616438356\n",
      "LIBRARIES_AND_DEMO : 638503.734939759\n",
      "LIFESTYLE : 1437816.2687861272\n",
      "GAME : 15588015.603248259\n",
      "FAMILY : 3695641.8198090694\n",
      "MEDICAL : 120550.61980830671\n",
      "SOCIAL : 23253652.127118643\n",
      "SHOPPING : 7036877.311557789\n",
      "PHOTOGRAPHY : 17840110.40229885\n",
      "SPORTS : 3638640.1428571427\n",
      "TRAVEL_AND_LOCAL : 13984077.710144928\n",
      "TOOLS : 10801391.298666667\n",
      "PERSONALIZATION : 5201482.6122448975\n",
      "PRODUCTIVITY : 16787331.344927534\n",
      "PARENTING : 542603.6206896552\n",
      "WEATHER : 5074486.197183099\n",
      "VIDEO_PLAYERS : 24727872.452830188\n",
      "NEWS_AND_MAGAZINES : 9549178.467741935\n",
      "MAPS_AND_NAVIGATION : 4056941.7741935486\n"
     ]
    }
   ],
   "source": [
    "cats_play = freq_table(playstore_free, 1)\n",
    "\n",
    "for category in cats_play:\n",
    "    total  = 0\n",
    "    len_category = 0\n",
    "    for row in playstore_free:\n",
    "        category_app = row[1]\n",
    "        if category_app == category:\n",
    "            n_installs = row[5]\n",
    "            n_installs = n_installs.replace('+', '')\n",
    "            n_installs = float(n_installs.replace(',', ''))\n",
    "            total += n_installs\n",
    "            len_category += 1\n",
    "    avg_n = total / len_category\n",
    "    print(category, ':' , avg_n)"
   ]
  },
  {
   "cell_type": "markdown",
   "metadata": {},
   "source": [
    "Communication apps seems to have the edge over here. Let's take a closer look:"
   ]
  },
  {
   "cell_type": "code",
   "execution_count": 28,
   "metadata": {},
   "outputs": [
    {
     "name": "stdout",
     "output_type": "stream",
     "text": [
      "WhatsApp Messenger : 1,000,000,000+\n",
      "imo beta free calls and text : 100,000,000+\n",
      "Android Messages : 100,000,000+\n",
      "Google Duo - High Quality Video Calls : 500,000,000+\n",
      "Messenger – Text and Video Chat for Free : 1,000,000,000+\n",
      "imo free video calls and chat : 500,000,000+\n",
      "Skype - free IM & video calls : 1,000,000,000+\n",
      "Who : 100,000,000+\n",
      "GO SMS Pro - Messenger, Free Themes, Emoji : 100,000,000+\n",
      "LINE: Free Calls & Messages : 500,000,000+\n",
      "Google Chrome: Fast & Secure : 1,000,000,000+\n",
      "Firefox Browser fast & private : 100,000,000+\n",
      "UC Browser - Fast Download Private & Secure : 500,000,000+\n",
      "Gmail : 1,000,000,000+\n",
      "Hangouts : 1,000,000,000+\n",
      "Messenger Lite: Free Calls & Messages : 100,000,000+\n",
      "Kik : 100,000,000+\n",
      "KakaoTalk: Free Calls & Text : 100,000,000+\n",
      "Opera Mini - fast web browser : 100,000,000+\n",
      "Opera Browser: Fast and Secure : 100,000,000+\n",
      "Telegram : 100,000,000+\n",
      "Truecaller: Caller ID, SMS spam blocking & Dialer : 100,000,000+\n",
      "UC Browser Mini -Tiny Fast Private & Secure : 100,000,000+\n",
      "Viber Messenger : 500,000,000+\n",
      "WeChat : 100,000,000+\n",
      "Yahoo Mail – Stay Organized : 100,000,000+\n",
      "BBM - Free Calls & Messages : 100,000,000+\n"
     ]
    }
   ],
   "source": [
    "for app in playstore_free:\n",
    "    if app[1] == 'COMMUNICATION' and (app[5] == '1,000,000,000+'\n",
    "                                      or app[5] == '500,000,000+'\n",
    "                                      or app[5] == '100,000,000+'):\n",
    "        print(app[0], ':', app[5])"
   ]
  },
  {
   "cell_type": "markdown",
   "metadata": {
    "collapsed": true
   },
   "source": [
    "Some apps like WhatsApp, Google Chrome, Skype, and Messenger seem to dominate here. So for taking a better look at how this genre holds itself in the market, let's pick an arbitrary threshold for two things. First, remove the big guns from the list. Second, preserve the successful apps in the market.\n",
    "\n",
    "I think the 100.000.000 is a good pick here. Let's take what do we have if we remove every app that has 100.000.000 and above from our list."
   ]
  },
  {
   "cell_type": "code",
   "execution_count": 29,
   "metadata": {},
   "outputs": [
    {
     "data": {
      "text/plain": [
       "3603485.3884615386"
      ]
     },
     "execution_count": 29,
     "metadata": {},
     "output_type": "execute_result"
    }
   ],
   "source": [
    "under_100m = []\n",
    "\n",
    "for app in playstore_free:\n",
    "    n_installs = app[5]\n",
    "    n_installs = n_installs.replace(',','')\n",
    "    n_installs = n_installs.replace('+','')\n",
    "    if (app[1] == 'COMMUNICATION') and (float(n_installs) < 100000000):\n",
    "        under_100m.append(float(n_installs))\n",
    "        \n",
    "sum(under_100m) / len(under_100m)\n",
    "        "
   ]
  },
  {
   "cell_type": "markdown",
   "metadata": {},
   "source": [
    "We see the same pattern for the video players category, which is the runner-up with 24,727,872 installs. The market is dominated by apps like Youtube, Google Play Movies & TV, or MX Player. The pattern is repeated for social apps (where we have giants like Facebook, Instagram, Google+, etc.), photography apps (Google Photos and other popular photo editors), or productivity apps (Microsoft Word, Dropbox, Google Calendar, Evernote, etc.).\n",
    "\n",
    "Again, the main concern is that these app genres might seem more popular than they really are. Moreover, these niches seem to be dominated by a few giants who are hard to compete against.\n",
    "\n",
    "The game genre seems pretty popular, but previously we found out that this part of the market seems a bit saturated, so we'd like to come up with a different app recommendation.\n",
    "\n",
    "Let's take a look at the genre we've discovered previously for App Store. The books and references genre. The category name for it is: 'BOOKS_AND_REFERENCE:"
   ]
  },
  {
   "cell_type": "code",
   "execution_count": 30,
   "metadata": {},
   "outputs": [
    {
     "name": "stdout",
     "output_type": "stream",
     "text": [
      "E-Book Read - Read Book for free  : 50,000+\n",
      "Download free book with green book  : 100,000+\n",
      "Wikipedia  : 10,000,000+\n",
      "Cool Reader  : 10,000,000+\n",
      "Free Panda Radio Music  : 100,000+\n",
      "Book store  : 1,000,000+\n",
      "FBReader: Favorite Book Reader  : 10,000,000+\n",
      "English Grammar Complete Handbook  : 500,000+\n",
      "Free Books - Spirit Fanfiction and Stories  : 1,000,000+\n",
      "Google Play Books  : 1,000,000,000+\n",
      "AlReader -any text book reader  : 5,000,000+\n",
      "Offline English Dictionary  : 100,000+\n",
      "Offline: English to Tagalog Dictionary  : 500,000+\n",
      "FamilySearch Tree  : 1,000,000+\n",
      "Cloud of Books  : 1,000,000+\n",
      "Recipes of Prophetic Medicine for free  : 500,000+\n",
      "ReadEra – free ebook reader  : 1,000,000+\n",
      "Anonymous caller detection  : 10,000+\n",
      "Ebook Reader  : 5,000,000+\n",
      "Litnet - E-books  : 100,000+\n",
      "Read books online  : 5,000,000+\n",
      "English to Urdu Dictionary  : 500,000+\n",
      "eBoox: book reader fb2 epub zip  : 1,000,000+\n",
      "English Persian Dictionary  : 500,000+\n",
      "Flybook  : 500,000+\n",
      "All Maths Formulas  : 1,000,000+\n",
      "Ancestry  : 5,000,000+\n",
      "HTC Help  : 10,000,000+\n",
      "English translation from Bengali  : 100,000+\n",
      "Pdf Book Download - Read Pdf Book  : 100,000+\n",
      "Free Book Reader  : 100,000+\n",
      "eBoox new: Reader for fb2 epub zip books  : 50,000+\n",
      "Only 30 days in English, the guideline is guaranteed  : 500,000+\n",
      "Moon+ Reader  : 10,000,000+\n",
      "SH-02J Owner's Manual (Android 8.0)  : 50,000+\n",
      "English-Myanmar Dictionary  : 1,000,000+\n",
      "Golden Dictionary (EN-AR)  : 1,000,000+\n",
      "All Language Translator Free  : 1,000,000+\n",
      "Azpen eReader  : 500,000+\n",
      "URBANO V 02 instruction manual  : 100,000+\n",
      "Bible  : 100,000,000+\n",
      "C Programs and Reference  : 50,000+\n",
      "C Offline Tutorial  : 1,000+\n",
      "C Programs Handbook  : 50,000+\n",
      "Amazon Kindle  : 100,000,000+\n",
      "Aab e Hayat Full Novel  : 100,000+\n",
      "Aldiko Book Reader  : 10,000,000+\n",
      "Google I/O 2018  : 500,000+\n",
      "R Language Reference Guide  : 10,000+\n",
      "Learn R Programming Full  : 5,000+\n",
      "R Programing Offline Tutorial  : 1,000+\n",
      "Guide for R Programming  : 5+\n",
      "Learn R Programming  : 10+\n",
      "R Quick Reference Big Data  : 1,000+\n",
      "V Made  : 100,000+\n",
      "Wattpad 📖 Free Books  : 100,000,000+\n",
      "Dictionary - WordWeb  : 5,000,000+\n",
      "Guide (for X-MEN)  : 100,000+\n",
      "AC Air condition Troubleshoot,Repair,Maintenance  : 5,000+\n",
      "AE Bulletins  : 1,000+\n",
      "Ae Allah na Dai (Rasa)  : 10,000+\n",
      "50000 Free eBooks & Free AudioBooks  : 5,000,000+\n",
      "Ag PhD Field Guide  : 10,000+\n",
      "Ag PhD Deficiencies  : 10,000+\n",
      "Ag PhD Planting Population Calculator  : 1,000+\n",
      "Ag PhD Soybean Diseases  : 1,000+\n",
      "Fertilizer Removal By Crop  : 50,000+\n",
      "A-J Media Vault  : 50+\n",
      "Al-Quran (Free)  : 10,000,000+\n",
      "Al Quran (Tafsir & by Word)  : 500,000+\n",
      "Al Quran Indonesia  : 10,000,000+\n",
      "Al'Quran Bahasa Indonesia  : 10,000,000+\n",
      "Al Quran Al karim  : 1,000,000+\n",
      "Al-Muhaffiz  : 50,000+\n",
      "Al Quran : EAlim - Translations & MP3 Offline  : 5,000,000+\n",
      "Al-Quran 30 Juz free copies  : 500,000+\n",
      "Koran Read &MP3 30 Juz Offline  : 1,000,000+\n",
      "Hafizi Quran 15 lines per page  : 1,000,000+\n",
      "Quran for Android  : 10,000,000+\n",
      "Surah Al-Waqiah  : 100,000+\n",
      "Hisnul Al Muslim - Hisn Invocations & Adhkaar  : 100,000+\n",
      "Satellite AR  : 1,000,000+\n",
      "Audiobooks from Audible  : 100,000,000+\n",
      "Kinot & Eichah for Tisha B'Av  : 10,000+\n",
      "AW Tozer Devotionals - Daily  : 5,000+\n",
      "Tozer Devotional -Series 1  : 1,000+\n",
      "The Pursuit of God  : 1,000+\n",
      "AY Sing  : 5,000+\n",
      "Ay Hasnain k Nana Milad Naat  : 10,000+\n",
      "Ay Mohabbat Teri Khatir Novel  : 10,000+\n",
      "Arizona Statutes, ARS (AZ Law)  : 1,000+\n",
      "Oxford A-Z of English Usage  : 1,000,000+\n",
      "BD Fishpedia  : 1,000+\n",
      "BD All Sim Offer  : 10,000+\n",
      "Youboox - Livres, BD et magazines  : 500,000+\n",
      "B&H Kids AR  : 10,000+\n",
      "B y H Niños ES  : 5,000+\n",
      "Dictionary.com: Find Definitions for English Words  : 10,000,000+\n",
      "English Dictionary - Offline  : 10,000,000+\n",
      "Bible KJV  : 5,000,000+\n",
      "Borneo Bible, BM Bible  : 10,000+\n",
      "MOD Black for BM  : 100+\n",
      "BM Box  : 1,000+\n",
      "Anime Mod for BM  : 100+\n",
      "NOOK: Read eBooks & Magazines  : 10,000,000+\n",
      "NOOK Audiobooks  : 500,000+\n",
      "NOOK App for NOOK Devices  : 500,000+\n",
      "Browsery by Barnes & Noble  : 5,000+\n",
      "bp e-store  : 1,000+\n",
      "Brilliant Quotes: Life, Love, Family & Motivation  : 1,000,000+\n",
      "BR Ambedkar Biography & Quotes  : 10,000+\n",
      "BU Alsace  : 100+\n",
      "Catholic La Bu Zo Kam  : 500+\n",
      "Khrifa Hla Bu (Solfa)  : 10+\n",
      "Kristian Hla Bu  : 10,000+\n",
      "SA HLA BU  : 1,000+\n",
      "Learn SAP BW  : 500+\n",
      "Learn SAP BW on HANA  : 500+\n",
      "CA Laws 2018 (California Laws and Codes)  : 5,000+\n",
      "Bootable Methods(USB-CD-DVD)  : 10,000+\n",
      "cloudLibrary  : 100,000+\n",
      "SDA Collegiate Quarterly  : 500+\n",
      "Sabbath School  : 100,000+\n",
      "Cypress College Library  : 100+\n",
      "Stats Royale for Clash Royale  : 1,000,000+\n",
      "GATE 21 years CS Papers(2011-2018 Solved)  : 50+\n",
      "Learn CT Scan Of Head  : 5,000+\n",
      "Easy Cv maker 2018  : 10,000+\n",
      "How to Write CV  : 100,000+\n",
      "CW Nuclear  : 1,000+\n",
      "CY Spray nozzle  : 10+\n",
      "BibleRead En Cy Zh Yue  : 5+\n",
      "CZ-Help  : 5+\n",
      "Modlitební knížka CZ  : 500+\n",
      "Guide for DB Xenoverse  : 10,000+\n",
      "Guide for DB Xenoverse 2  : 10,000+\n",
      "Guide for IMS DB  : 10+\n",
      "DC HSEMA  : 5,000+\n",
      "DC Public Library  : 1,000+\n",
      "Painting Lulu DC Super Friends  : 1,000+\n",
      "Dictionary  : 10,000,000+\n",
      "Fix Error Google Playstore  : 1,000+\n",
      "D. H. Lawrence Poems FREE  : 1,000+\n",
      "Bilingual Dictionary Audio App  : 5,000+\n",
      "DM Screen  : 10,000+\n",
      "wikiHow: how to do anything  : 1,000,000+\n",
      "Dr. Doug's Tips  : 1,000+\n",
      "Bible du Semeur-BDS (French)  : 50,000+\n",
      "La citadelle du musulman  : 50,000+\n",
      "DV 2019 Entry Guide  : 10,000+\n",
      "DV 2019 - EDV Photo & Form  : 50,000+\n",
      "DV 2018 Winners Guide  : 1,000+\n",
      "EB Annual Meetings  : 1,000+\n",
      "EC - AP & Telangana  : 5,000+\n",
      "TN Patta Citta & EC  : 10,000+\n",
      "AP Stamps and Registration  : 10,000+\n",
      "CompactiMa EC pH Calibration  : 100+\n",
      "EGW Writings 2  : 100,000+\n",
      "EGW Writings  : 1,000,000+\n",
      "Bible with EGW Comments  : 100,000+\n",
      "My Little Pony AR Guide  : 1,000,000+\n",
      "SDA Sabbath School Quarterly  : 500,000+\n",
      "Duaa Ek Ibaadat  : 5,000+\n",
      "Spanish English Translator  : 10,000,000+\n",
      "Dictionary - Merriam-Webster  : 10,000,000+\n",
      "JW Library  : 10,000,000+\n",
      "Oxford Dictionary of English : Free  : 10,000,000+\n",
      "English Hindi Dictionary  : 10,000,000+\n",
      "English to Hindi Dictionary  : 5,000,000+\n",
      "EP Research Service  : 1,000+\n",
      "Hymnes et Louanges  : 100,000+\n",
      "EU Charter  : 1,000+\n",
      "EU Data Protection  : 1,000+\n",
      "EU IP Codes  : 100+\n",
      "EW PDF  : 5+\n",
      "BakaReader EX  : 100,000+\n",
      "EZ Quran  : 50,000+\n",
      "FA Part 1 & 2 Past Papers Solved Free – Offline  : 5,000+\n",
      "La Fe de Jesus  : 1,000+\n",
      "La Fe de Jesús  : 500+\n",
      "Le Fe de Jesus  : 500+\n",
      "Florida - Pocket Brainbook  : 1,000+\n",
      "Florida Statutes (FL Code)  : 1,000+\n",
      "English To Shona Dictionary  : 10,000+\n",
      "Greek Bible FP (Audio)  : 1,000+\n",
      "Golden Dictionary (FR-AR)  : 500,000+\n",
      "Fanfic-FR  : 5,000+\n",
      "Bulgarian French Dictionary Fr  : 10,000+\n",
      "Chemin (fr)  : 1,000+\n",
      "The SCP Foundation DB fr nn5n  : 1,000+\n"
     ]
    }
   ],
   "source": [
    "for app in playstore_free:\n",
    "    if app[1] == 'BOOKS_AND_REFERENCE':\n",
    "        print(app[0],' :', app[5])"
   ]
  },
  {
   "cell_type": "markdown",
   "metadata": {},
   "source": [
    "This genre, as well as it's parallel on App Store, includes a large variety of apps: software for processing and reading ebooks, libraries, dictionaries, audiobooks, tutorials, language-based apps.\n",
    "\n",
    "Let's look at how the dominating forces of this category are:"
   ]
  },
  {
   "cell_type": "code",
   "execution_count": 31,
   "metadata": {},
   "outputs": [
    {
     "name": "stdout",
     "output_type": "stream",
     "text": [
      "Google Play Books  1,000,000,000+\n",
      "Bible  100,000,000+\n",
      "Amazon Kindle  100,000,000+\n",
      "Wattpad 📖 Free Books  100,000,000+\n",
      "Audiobooks from Audible  100,000,000+\n"
     ]
    }
   ],
   "source": [
    "for app in playstore_free:\n",
    "    if app[1] == 'BOOKS_AND_REFERENCE' and (app[5] == '100,000,000+' or\n",
    "                                            app[5] == '500,000,000+' or\n",
    "                                            app[5] == '1,000,000,000+'):\n",
    "        print(app[0],'',app[5])"
   ]
  },
  {
   "cell_type": "markdown",
   "metadata": {},
   "source": [
    "The dominating forces are rather few in numbers. The result is looking good. Let's take a look at successful apps that stands in the middle."
   ]
  },
  {
   "cell_type": "code",
   "execution_count": 32,
   "metadata": {},
   "outputs": [
    {
     "name": "stdout",
     "output_type": "stream",
     "text": [
      "Wikipedia  10,000,000+\n",
      "Cool Reader  10,000,000+\n",
      "Book store  1,000,000+\n",
      "FBReader: Favorite Book Reader  10,000,000+\n",
      "Free Books - Spirit Fanfiction and Stories  1,000,000+\n",
      "AlReader -any text book reader  5,000,000+\n",
      "FamilySearch Tree  1,000,000+\n",
      "Cloud of Books  1,000,000+\n",
      "ReadEra – free ebook reader  1,000,000+\n",
      "Ebook Reader  5,000,000+\n",
      "Read books online  5,000,000+\n",
      "eBoox: book reader fb2 epub zip  1,000,000+\n",
      "All Maths Formulas  1,000,000+\n",
      "Ancestry  5,000,000+\n",
      "HTC Help  10,000,000+\n",
      "Moon+ Reader  10,000,000+\n",
      "English-Myanmar Dictionary  1,000,000+\n",
      "Golden Dictionary (EN-AR)  1,000,000+\n",
      "All Language Translator Free  1,000,000+\n",
      "Aldiko Book Reader  10,000,000+\n",
      "Dictionary - WordWeb  5,000,000+\n",
      "50000 Free eBooks & Free AudioBooks  5,000,000+\n",
      "Al-Quran (Free)  10,000,000+\n",
      "Al Quran Indonesia  10,000,000+\n",
      "Al'Quran Bahasa Indonesia  10,000,000+\n",
      "Al Quran Al karim  1,000,000+\n",
      "Al Quran : EAlim - Translations & MP3 Offline  5,000,000+\n",
      "Koran Read &MP3 30 Juz Offline  1,000,000+\n",
      "Hafizi Quran 15 lines per page  1,000,000+\n",
      "Quran for Android  10,000,000+\n",
      "Satellite AR  1,000,000+\n",
      "Oxford A-Z of English Usage  1,000,000+\n",
      "Dictionary.com: Find Definitions for English Words  10,000,000+\n",
      "English Dictionary - Offline  10,000,000+\n",
      "Bible KJV  5,000,000+\n",
      "NOOK: Read eBooks & Magazines  10,000,000+\n",
      "Brilliant Quotes: Life, Love, Family & Motivation  1,000,000+\n",
      "Stats Royale for Clash Royale  1,000,000+\n",
      "Dictionary  10,000,000+\n",
      "wikiHow: how to do anything  1,000,000+\n",
      "EGW Writings  1,000,000+\n",
      "My Little Pony AR Guide  1,000,000+\n",
      "Spanish English Translator  10,000,000+\n",
      "Dictionary - Merriam-Webster  10,000,000+\n",
      "JW Library  10,000,000+\n",
      "Oxford Dictionary of English : Free  10,000,000+\n",
      "English Hindi Dictionary  10,000,000+\n",
      "English to Hindi Dictionary  5,000,000+\n"
     ]
    }
   ],
   "source": [
    "for app in playstore_free:\n",
    "    if app[1] == 'BOOKS_AND_REFERENCE' and (app[5] == '1,000,000+' or\n",
    "                                            app[5] == '5,000,000+' or\n",
    "                                            app[5] == '50,000,000+' or\n",
    "                                            app[5] == '10,000,000+'):\n",
    "        print(app[0],'',app[5])"
   ]
  },
  {
   "cell_type": "markdown",
   "metadata": {},
   "source": [
    "We have ourselves a catch.\n",
    "\n",
    "Quran examples show that popular books work, as well as the Bible. This result parallels our findings for App Store as well. Previous ideas about basing new apps on recently popular books like Lord of the Rings, Harry Potter, Game of Thrones, Twilight series is a good idea. Not only that, this, for example, are all fantasy books. There's a pattern here in itself.\n",
    "\n",
    "Also, since the same kind of app saturates the stores, we should add more unique features in the form of perhaps an audiobook, daily quotes, forums/message boards, and quizzes about the book. We aim to increase the in-app time as much as people where our revenues are coming.\n",
    "\n",
    "But that is a whole other matter of subject itself.\n",
    "\n",
    "### Conclusion\n",
    "\n",
    "The data about Google Playstore and Apple's App Store was analyzed in this project to recommend an app profile that can be profitable for both markets.\n",
    "\n",
    "We concluded that references and book genres seem to be the best option that developers can take right now. It has high traffic and low competition when compared to other genres."
   ]
  }
 ],
 "metadata": {
  "kernelspec": {
   "display_name": "Python 3",
   "language": "python",
   "name": "python3"
  },
  "language_info": {
   "codemirror_mode": {
    "name": "ipython",
    "version": 3
   },
   "file_extension": ".py",
   "mimetype": "text/x-python",
   "name": "python",
   "nbconvert_exporter": "python",
   "pygments_lexer": "ipython3",
   "version": "3.7.3"
  }
 },
 "nbformat": 4,
 "nbformat_minor": 2
}
